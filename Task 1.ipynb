{
 "cells": [
  {
   "cell_type": "code",
   "execution_count": 16,
   "metadata": {},
   "outputs": [],
   "source": [
    "#Import library\n",
    "import requests"
   ]
  },
  {
   "cell_type": "code",
   "execution_count": 27,
   "metadata": {},
   "outputs": [],
   "source": [
    "def currency_exchange(usd = 1):\n",
    "    '''\n",
    "    make a function that takes amount of USD doller form user and calculate how much will it cost in EUR\n",
    "    '''\n",
    "    #Get URL\n",
    "    url ='https://api.frankfurter.app/latest?amount=1&from=USD&to=EUR'\n",
    "    #make request\n",
    "    response = requests.get(url)\n",
    "    data = response.json()\n",
    "    \n",
    "    #exchange rate\n",
    "    rate = dict1['rates']['EUR'] / dict1['amount']\n",
    "    \n",
    "    #calculate from USD to EUR\n",
    "    cal = usd * rate\n",
    "    #return EUR value\n",
    "    return f'EUR amount is: {cal}'\n",
    "    "
   ]
  },
  {
   "cell_type": "code",
   "execution_count": 28,
   "metadata": {},
   "outputs": [
    {
     "data": {
      "text/plain": [
       "'EUR amount is: 9.022'"
      ]
     },
     "execution_count": 28,
     "metadata": {},
     "output_type": "execute_result"
    }
   ],
   "source": [
    "currency_exchange(10)"
   ]
  },
  {
   "cell_type": "code",
   "execution_count": null,
   "metadata": {},
   "outputs": [],
   "source": []
  }
 ],
 "metadata": {
  "kernelspec": {
   "display_name": "Python 3",
   "language": "python",
   "name": "python3"
  },
  "language_info": {
   "codemirror_mode": {
    "name": "ipython",
    "version": 3
   },
   "file_extension": ".py",
   "mimetype": "text/x-python",
   "name": "python",
   "nbconvert_exporter": "python",
   "pygments_lexer": "ipython3",
   "version": "3.7.6"
  }
 },
 "nbformat": 4,
 "nbformat_minor": 4
}
